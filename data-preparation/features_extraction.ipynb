{
 "cells": [
  {
   "cell_type": "markdown",
   "id": "6afef1c8",
   "metadata": {},
   "source": [
    "# Imports"
   ]
  },
  {
   "cell_type": "code",
   "execution_count": null,
   "id": "c5c7bb30",
   "metadata": {},
   "outputs": [],
   "source": [
    "import pandas as pd\n",
    "from tqdm.auto import tqdm\n",
    "import cv2\n",
    "from skimage import io\n",
    "import csv\n",
    "import numpy as np\n",
    "from pathlib import Path\n",
    "from tensorflow.keras.preprocessing import image\n",
    "from tensorflow.keras.applications.vgg16 import preprocess_input\n",
    "from tensorflow.keras.applications.vgg16 import VGG16\n",
    "from feature_extractor import FeatureExtractor\n",
    "from zipfile import ZipFile\n",
    "import os\n",
    "from sklearn.decomposition import PCA\n",
    "import tensorflow as tf"
   ]
  },
  {
   "cell_type": "markdown",
   "id": "bd10530e",
   "metadata": {},
   "source": [
    "# Features extraction"
   ]
  },
  {
   "cell_type": "code",
   "execution_count": null,
   "id": "17d87003",
   "metadata": {},
   "outputs": [],
   "source": [
    "fe = FeatureExtractor()\n",
    "\n",
    "log = open(\"log.txt\",\"a\")\n",
    "features_list = [i for i in range(4096)]\n",
    "features_list.append(\"image_url\")\n",
    "for k in range(0,10):\n",
    "    df = pd.read_csv(f\"open-images-dataset-train{k}.tsv\",\"\\t\",header=0,names = [\"URL\",'ID',\"T\"])\n",
    "    for i in tqdm(range(0,100)):\n",
    "        skipped = 0\n",
    "        f = open(f'vgg16_features/features_0{k}{i}.csv',\"w\")\n",
    "        writer = csv.writer(f)\n",
    "        writer.writerow(features_list)\n",
    "        for j in tqdm(range(i*10000,(i+1)*10000)):\n",
    "            try:\n",
    "                url = df.iloc[j][\"URL\"]\n",
    "                im = io.imread(df.iloc[j][\"URL\"])\n",
    "                features = fe.extract(img=im)\n",
    "                features = features.tolist()\n",
    "                features.append(url)\n",
    "                writer.writerow(features)\n",
    "            except Exception as e:\n",
    "                skipped+=1\n",
    "        f.close()\n",
    "        log.write(f\"Batch {i} contains {10000-skipped} image feature\\n\")\n",
    "    log.close()"
   ]
  },
  {
   "cell_type": "markdown",
   "id": "2c47ad5e",
   "metadata": {},
   "source": [
    "# Clean data with tags"
   ]
  },
  {
   "cell_type": "code",
   "execution_count": 2,
   "id": "69958f1e",
   "metadata": {},
   "outputs": [],
   "source": [
    "def extract_id(row):\n",
    "    return str(row[\"OriginalURL\"].split(\"/\")[-1].split(\"_\")[0])"
   ]
  },
  {
   "cell_type": "code",
   "execution_count": 29,
   "id": "3c163a88",
   "metadata": {},
   "outputs": [
    {
     "name": "stderr",
     "output_type": "stream",
     "text": [
      "C:\\Users\\gtoun\\AppData\\Roaming\\Python\\Python38\\site-packages\\IPython\\core\\interactiveshell.py:3441: DtypeWarning: Columns (6) have mixed types.Specify dtype option on import or set low_memory=False.\n",
      "  exec(code_obj, self.user_global_ns, self.user_ns)\n"
     ]
    }
   ],
   "source": [
    "first = pd.read_csv(f\"open-images-dataset{0}_withtags.csv\")\n",
    "first[\"id\"] = first.apply(lambda row: extract_id(row), axis=1)\n",
    "first[\"id\"] = first[\"id\"].astype(\"str\")\n",
    "for i in range(1,10):\n",
    "    second = pd.read_csv(f\"open-images-dataset{i}_withtags.csv\")\n",
    "    second[\"id\"] = second.apply(lambda row: extract_id(row), axis=1)\n",
    "    second[\"id\"] = second[\"id\"].astype(\"str\")\n",
    "    res = pd.concat([first,second])\n",
    "    first = res\n",
    "res.to_csv(\"images_meta.csv\",index=False)"
   ]
  },
  {
   "cell_type": "code",
   "execution_count": 33,
   "id": "526aeef1",
   "metadata": {},
   "outputs": [],
   "source": [
    "clean_df = final.groupby(['OriginalURL','Label','Author','Title',\"Tags\",\"id\"])['ImageID'].apply(', '.join).reset_index()"
   ]
  }
 ],
 "metadata": {
  "kernelspec": {
   "display_name": "Python 3 (ipykernel)",
   "language": "python",
   "name": "python3"
  },
  "language_info": {
   "codemirror_mode": {
    "name": "ipython",
    "version": 3
   },
   "file_extension": ".py",
   "mimetype": "text/x-python",
   "name": "python",
   "nbconvert_exporter": "python",
   "pygments_lexer": "ipython3",
   "version": "3.8.10"
  }
 },
 "nbformat": 4,
 "nbformat_minor": 5
}
